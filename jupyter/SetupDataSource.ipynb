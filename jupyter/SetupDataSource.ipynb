{
 "cells": [
  {
   "metadata": {},
   "cell_type": "markdown",
   "source": "### Import Library",
   "id": "102d35005806fa3c"
  },
  {
   "metadata": {},
   "cell_type": "code",
   "source": [
    "from _includes import config\n",
    "import tableauserverclient as TSC\n",
    "config_dict = config.config_dict"
   ],
   "id": "initial_id",
   "outputs": [],
   "execution_count": null
  },
  {
   "metadata": {},
   "cell_type": "markdown",
   "source": "### Authenticate, then Publish Data Source",
   "id": "cedffbf113892b65"
  },
  {
   "metadata": {},
   "cell_type": "code",
   "source": [
    "server = TSC.Server(config_dict[\"server\"], use_server_version=True)\n",
    "auth = TSC.PersonalAccessTokenAuth(config_dict[\"token_name\"], config_dict[\"token_secret\"], config_dict[\"content_url\"])"
   ],
   "id": "c8346d8c75128fe",
   "outputs": [],
   "execution_count": null
  },
  {
   "metadata": {},
   "cell_type": "code",
   "source": [
    "project_name = 'default'\n",
    "tdsx_file_path = 'data/SuperStoreDataDev.tdsx'\n",
    "\n",
    "with server.auth.sign_in(auth):\n",
    "    all_projects, pagination_item = server.projects.get()\n",
    "    project = next((project for project in all_projects if project.name == project_name), None)\n",
    "    if project is None:\n",
    "        raise LookupError(f'Project named \"{project_name}\" not found.')\n",
    "    try:\n",
    "        new_datasource = TSC.DatasourceItem(project.id, name=\"SuperStoreDataDev\")\n",
    "        new_datasource = server.datasources.publish(new_datasource, tdsx_file_path, TSC.Server.PublishMode.Overwrite)\n",
    "        datasource_id = new_datasource.id\n",
    "        print(\"The DataSourceID of the published data source is:\")\n",
    "        print(datasource_id)\n",
    "    except Exception as e:\n",
    "        print(str(e))"
   ],
   "id": "eb47bd5222593dbf",
   "outputs": [],
   "execution_count": null
  }
 ],
 "metadata": {
  "kernelspec": {
   "display_name": "Python 3",
   "language": "python",
   "name": "python3"
  },
  "language_info": {
   "codemirror_mode": {
    "name": "ipython",
    "version": 2
   },
   "file_extension": ".py",
   "mimetype": "text/x-python",
   "name": "python",
   "nbconvert_exporter": "python",
   "pygments_lexer": "ipython2",
   "version": "2.7.6"
  }
 },
 "nbformat": 4,
 "nbformat_minor": 5
}
