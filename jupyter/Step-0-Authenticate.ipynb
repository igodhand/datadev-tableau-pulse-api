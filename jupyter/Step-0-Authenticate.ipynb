{
 "cells": [
  {
   "metadata": {},
   "cell_type": "markdown",
   "source": "### Import Config",
   "id": "5927f6ee324661f4"
  },
  {
   "cell_type": "code",
   "id": "initial_id",
   "metadata": {
    "collapsed": true
   },
   "source": [
    "import requests\n",
    "import json\n",
    "from _includes import config\n",
    "\n",
    "config_dict = config.config_dict"
   ],
   "outputs": [],
   "execution_count": null
  },
  {
   "metadata": {},
   "cell_type": "markdown",
   "source": "### Signin URL",
   "id": "a8bb6d861e2cf630"
  },
  {
   "metadata": {},
   "cell_type": "code",
   "source": [
    "server = config_dict['server']\n",
    "api_version = '3.21'\n",
    "auth_endpoint = f'{server}/api/{api_version}/auth/signin'\n",
    "print(auth_endpoint)"
   ],
   "id": "8dad42bf21f720f",
   "outputs": [],
   "execution_count": null
  },
  {
   "metadata": {},
   "cell_type": "markdown",
   "source": "### Prepare Payload",
   "id": "86bcfb1267bb21f2"
  },
  {
   "metadata": {},
   "cell_type": "code",
   "source": [
    "headers = {\n",
    "    'Content-Type': 'application/json',\n",
    "    'Accept': 'application/json'\n",
    "}\n",
    "\n",
    "payload = {\n",
    "    'credentials': {\n",
    "        'personalAccessTokenName': config_dict['token_name'],\n",
    "        'personalAccessTokenSecret': config_dict['token_secret'],\n",
    "        'site': {\n",
    "            'contentUrl': config_dict['content_url']\n",
    "        }\n",
    "    }\n",
    "}"
   ],
   "id": "4efab5ecf7084486",
   "outputs": [],
   "execution_count": null
  },
  {
   "metadata": {},
   "cell_type": "markdown",
   "source": [
    "### Authenticate and Get Token \n",
    "### Then Assigned to X-Tableau-Auth"
   ],
   "id": "eae7c00358c83c9d"
  },
  {
   "metadata": {},
   "cell_type": "code",
   "source": [
    "try:\n",
    "    response = requests.post(auth_endpoint, headers=headers, data=json.dumps(payload))\n",
    "    response_json = response.json()\n",
    "    token = response_json['credentials']['token']\n",
    "    site_id = response_json['credentials']['site']['id']\n",
    "    user_id = response_json['credentials']['user']['id']\n",
    "    headers['X-Tableau-Auth'] = token\n",
    "    site_api_url = f'{server}/api/{api_version}/sites/{site_id}'\n",
    "    print(f'Authentication successful')\n",
    "    print(f'Site ID: {site_id[0:8]}-xxxxxxxx')\n",
    "    print(f'User ID: {user_id[0:8]}-xxxxxxxx')\n",
    "    print(f'Token  : {token[0:8]}-xxxxxxxx')\n",
    "    print(f'Base Site URL : {server}/api/{api_version}/sites/{site_id[0:8]}-xxxxxxxx')\n",
    "    print(f'Base API URL  : {server}/api/-')\n",
    "except Exception as e:\n",
    "    print(f'Error message: {str(e)}')"
   ],
   "id": "54394ba9f5c2980d",
   "outputs": [],
   "execution_count": null
  },
  {
   "metadata": {},
   "cell_type": "markdown",
   "source": "### After this step, I will use helper Class to Authenticate and get the header, base_site_url, base_api_url automatically",
   "id": "6e4ee353fbcdb225"
  }
 ],
 "metadata": {
  "kernelspec": {
   "display_name": "Python 3",
   "language": "python",
   "name": "python3"
  },
  "language_info": {
   "codemirror_mode": {
    "name": "ipython",
    "version": 2
   },
   "file_extension": ".py",
   "mimetype": "text/x-python",
   "name": "python",
   "nbconvert_exporter": "python",
   "pygments_lexer": "ipython2",
   "version": "2.7.6"
  }
 },
 "nbformat": 4,
 "nbformat_minor": 5
}
