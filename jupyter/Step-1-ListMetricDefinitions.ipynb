{
 "cells": [
  {
   "metadata": {},
   "cell_type": "markdown",
   "source": "### Authenticate and get headers",
   "id": "12e709489c9fe0d5"
  },
  {
   "cell_type": "code",
   "id": "initial_id",
   "metadata": {
    "collapsed": true
   },
   "source": [
    "import requests\n",
    "from _includes import config\n",
    "from _includes import helper\n",
    "\n",
    "config_dict = config.config_dict\n",
    "\n",
    "api = helper.APIHelper(config_dict)\n",
    "base_site_url = f'{api.server}/api/{api.api_version}/sites/{api.site_id}'\n",
    "base_api_url = f'{api.server}/api/-'\n",
    "headers = api.headers"
   ],
   "outputs": [],
   "execution_count": null
  },
  {
   "metadata": {},
   "cell_type": "markdown",
   "source": "### List Existing Definitions",
   "id": "9fc0dbe0ba14a96d"
  },
  {
   "metadata": {},
   "cell_type": "code",
   "source": [
    "endpoint = f'{base_api_url}/pulse/definitions'\n",
    "\n",
    "metadata_list = []\n",
    "api_response = requests.get(endpoint, headers=headers)\n",
    "api_response_json = api_response.json()\n",
    "metadata_list.extend(api_response_json['definitions'])\n",
    "\n",
    "# Handle the Pagination\n",
    "while 'next_page_token' in api_response_json and api_response_json['next_page_token'] != '':\n",
    "    next_page_token = api_response_json['next_page_token']\n",
    "    api_response = requests.get(f'{endpoint}?pageToken={next_page_token}', headers=headers)\n",
    "    api_response_json = api_response.json()\n",
    "    metadata_list.extend(api_response_json['definitions'])\n",
    "\n",
    "# Print Sample Data\n",
    "for metadata in metadata_list:\n",
    "    print(metadata)"
   ],
   "id": "1297adde88492d3b",
   "outputs": [],
   "execution_count": null
  },
  {
   "metadata": {},
   "cell_type": "markdown",
   "source": "### Transforming the JSON data into a structured format to make it more manageable",
   "id": "8b5a239a73a4c966"
  },
  {
   "metadata": {},
   "cell_type": "code",
   "source": [
    "import pandas as pd\n",
    "import json\n",
    "\n",
    "definition_list = []\n",
    "\n",
    "for item in metadata_list:\n",
    "    metadata = item.get('metadata', {})\n",
    "    specification = item.get('specification', {})\n",
    "    basic_specification = specification.get('basic_specification', {})\n",
    "    measure = basic_specification.get('measure', {})\n",
    "    time_dimension = basic_specification.get('time_dimension', {})\n",
    "    filters = basic_specification.get('filters', [])\n",
    "    extension_options = item.get('extension_options', {})\n",
    "    representation_options = item.get('representation_options', {})\n",
    "    viz_state_specification = specification.get('viz_state_specification', {})\n",
    "    viz_state_string = viz_state_specification.get('viz_state_string', '{}')\n",
    "    formula = ''\n",
    "    formula_time_column = []\n",
    "\n",
    "    try:\n",
    "        viz_state_json = json.loads(viz_state_string)\n",
    "        formula = viz_state_json.get('dataModel', {}).get('dataSource', [])[0].get('columnsToAdd', [])[0].get('calc', {}).get('formula', '')\n",
    "        # formula_time_column = viz_state_json.get('vizState', {}).get('columns', [])[0].get('fieldOnShelf', {}).get('component', [])\n",
    "        formula_time_column = viz_state_json.get('vizState', {}).get('columns', [])[0].get('fieldCaption', '')\n",
    "    except (json.JSONDecodeError, IndexError, KeyError):\n",
    "        pass\n",
    "\n",
    "    definition_list.append({\n",
    "        'definition_name': metadata.get('name', ''),\n",
    "        'definition_id': metadata.get('id', ''),\n",
    "        'datasource_id': specification.get('datasource', {}).get('id', ''),\n",
    "        'measure_field': measure.get('field', ''),\n",
    "        'measure_aggregation': measure.get('aggregation', ''),\n",
    "        'time_dimension_field': time_dimension.get('field', ''),\n",
    "        'formula': formula,\n",
    "        'formula_time_dimension': formula_time_column,\n",
    "        'filters': filters,\n",
    "        'is_running_total': basic_specification.get('is_running_total', False),\n",
    "        'allowed_dimensions': extension_options.get('allowed_dimensions', []),\n",
    "        'sentiment_type': representation_options.get('sentiment_type', ''),\n",
    "        'allowed_granularities': extension_options.get('allowed_granularities', []),\n",
    "    })\n",
    "\n",
    "# Create DataFrame\n",
    "df = pd.DataFrame(definition_list)\n",
    "df"
   ],
   "id": "15c3fd99ae86fa1",
   "outputs": [],
   "execution_count": null
  }
 ],
 "metadata": {
  "kernelspec": {
   "display_name": "Python 3",
   "language": "python",
   "name": "python3"
  },
  "language_info": {
   "codemirror_mode": {
    "name": "ipython",
    "version": 2
   },
   "file_extension": ".py",
   "mimetype": "text/x-python",
   "name": "python",
   "nbconvert_exporter": "python",
   "pygments_lexer": "ipython2",
   "version": "2.7.6"
  }
 },
 "nbformat": 4,
 "nbformat_minor": 5
}
