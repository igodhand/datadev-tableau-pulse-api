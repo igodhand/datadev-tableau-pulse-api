{
 "cells": [
  {
   "metadata": {},
   "cell_type": "markdown",
   "source": "### Authenticate and Get Headers",
   "id": "5e23afd7d4075a99"
  },
  {
   "cell_type": "code",
   "id": "initial_id",
   "metadata": {
    "collapsed": true
   },
   "source": [
    "import requests\n",
    "from _includes import config\n",
    "from _includes import helper\n",
    "\n",
    "config_dict = config.config_dict\n",
    "api = helper.APIHelper(config_dict)\n",
    "base_site_url = f'{api.server}/api/{api.api_version}/sites/{api.site_id}'\n",
    "headers = api.headers"
   ],
   "outputs": [],
   "execution_count": null
  },
  {
   "metadata": {},
   "cell_type": "markdown",
   "source": [
    "### Get the datasource endpoint\n",
    "### https://server/api/{api_version}/sites/{site_id}/datasources"
   ],
   "id": "e5499673afc4544a"
  },
  {
   "metadata": {},
   "cell_type": "code",
   "source": "# https://help.tableau.com/current/api/rest_api/en-us/REST/rest_api_ref_data_sources.htm",
   "id": "3aec616a8a61bf38",
   "outputs": [],
   "execution_count": null
  },
  {
   "metadata": {},
   "cell_type": "code",
   "source": [
    "endpoint = f'{base_site_url}/datasources'\n",
    "\n",
    "response = requests.get(endpoint, headers=headers)\n",
    "items = response.json()['datasources']['datasource']\n",
    "\n",
    "for item in items:\n",
    "    print(item)"
   ],
   "id": "c7358e5b7c36c736",
   "outputs": [],
   "execution_count": null
  },
  {
   "metadata": {},
   "cell_type": "markdown",
   "source": "### Transforming the JSON data into a structured format",
   "id": "ff2569d0887966f2"
  },
  {
   "metadata": {},
   "cell_type": "code",
   "source": [
    "import pandas as pd\n",
    "\n",
    "datasource_list = [\n",
    "    (item.get('id'), item.get('name'), item.get('type'), item.get('project', {}).get('name'))\n",
    "    for item in items\n",
    "]\n",
    "\n",
    "datasource_sorted_list = sorted(datasource_list, key=lambda x: (x[3], x[1]))\n",
    "\n",
    "df = pd.DataFrame(datasource_sorted_list, columns=['datasource_id', 'datasource_name', 'type', 'project_name'])\n",
    "df = df[['project_name', 'datasource_name', 'datasource_id']]\n",
    "df"
   ],
   "id": "b0b9e958609ba3ab",
   "outputs": [],
   "execution_count": null
  },
  {
   "metadata": {},
   "cell_type": "markdown",
   "source": "## Using Helper Function to get Datasource ID from Project Name and Datasource Name",
   "id": "e793700aaf357e8"
  },
  {
   "metadata": {},
   "cell_type": "code",
   "source": [
    "datasource_dict_tuple = api.get_datasource_dict_tuple()\n",
    "datasource_id = datasource_dict_tuple[('default','TMG')]\n",
    "print(datasource_id)"
   ],
   "id": "c11597a9447ee4f4",
   "outputs": [],
   "execution_count": null
  },
  {
   "metadata": {},
   "cell_type": "code",
   "source": "",
   "id": "22a1b8c66244d2a5",
   "outputs": [],
   "execution_count": null
  }
 ],
 "metadata": {
  "kernelspec": {
   "display_name": "Python 3",
   "language": "python",
   "name": "python3"
  },
  "language_info": {
   "codemirror_mode": {
    "name": "ipython",
    "version": 2
   },
   "file_extension": ".py",
   "mimetype": "text/x-python",
   "name": "python",
   "nbconvert_exporter": "python",
   "pygments_lexer": "ipython2",
   "version": "2.7.6"
  }
 },
 "nbformat": 4,
 "nbformat_minor": 5
}
