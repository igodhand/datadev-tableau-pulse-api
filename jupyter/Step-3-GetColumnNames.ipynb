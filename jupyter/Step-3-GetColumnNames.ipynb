{
 "cells": [
  {
   "metadata": {},
   "cell_type": "markdown",
   "source": "### Authenticate and Get Headers",
   "id": "a55f8292dc714c3"
  },
  {
   "cell_type": "code",
   "id": "initial_id",
   "metadata": {
    "collapsed": true,
    "jupyter": {
     "is_executing": true
    }
   },
   "source": [
    "import requests\n",
    "from _includes import config\n",
    "from _includes import helper\n",
    "\n",
    "config_dict = config.config_dict\n",
    "\n",
    "api = helper.APIHelper(config_dict)\n",
    "base_site_url = f'{api.server}/api/{api.api_version}/sites/{api.site_id}'\n",
    "base_api_url = f'{api.server}/api/-'\n",
    "headers = api.headers"
   ],
   "outputs": [],
   "execution_count": null
  },
  {
   "metadata": {},
   "cell_type": "markdown",
   "source": "### Set DatasourceID",
   "id": "4226241c75e83075"
  },
  {
   "metadata": {},
   "cell_type": "code",
   "source": "datasource_id = '4ce11741-1d35-4298-ac66-95170277a76a'",
   "id": "c262b39529fb6e",
   "outputs": [],
   "execution_count": null
  },
  {
   "metadata": {},
   "cell_type": "markdown",
   "source": "### Get the Tableau Pulse datasource endpoint",
   "id": "caad58b2e8704ce0"
  },
  {
   "metadata": {},
   "cell_type": "code",
   "source": [
    "# Initial request\n",
    "endpoint = f'{base_api_url}/pulse/datasources/{datasource_id}'\n",
    "api_response = requests.get(endpoint, headers=headers)\n",
    "api_response_json = api_response.json()\n",
    "list_object = api_response_json['objects']\n",
    "print(api_response_json)"
   ],
   "id": "3ca65421519692f4",
   "outputs": [],
   "execution_count": null
  },
  {
   "metadata": {},
   "cell_type": "markdown",
   "source": "### Transforming the JSON data into a structured format",
   "id": "fab430ffe5a003db"
  },
  {
   "metadata": {},
   "cell_type": "code",
   "source": [
    "import pandas as pd\n",
    "fields_list = []\n",
    "\n",
    "# Object Dict - Refer for Table name\n",
    "objects_dict = {obj['id']: obj['label'] for obj in api_response_json['objects']}\n",
    "\n",
    "for field in api_response_json['fields']:\n",
    "    field_details = {\n",
    "        'field_id': field['id'],\n",
    "        'field_label': field['label'],\n",
    "        'object_id': field['object_id'],\n",
    "        'object_label': objects_dict.get(field['object_id']),\n",
    "        'data_type': field['data_type'],\n",
    "        'role': field['role']\n",
    "    }\n",
    "    if field_details.get('data_type') != 'DATA_TYPE_TABLE':\n",
    "        fields_list.append(field_details)\n",
    "\n",
    "fields_df = pd.DataFrame(fields_list)\n",
    "fields_df"
   ],
   "id": "97ffc7a5b15fb82e",
   "outputs": [],
   "execution_count": null
  },
  {
   "metadata": {},
   "cell_type": "markdown",
   "source": [
    "### DATA_TYPE_DATE = Candidate for \"Date\"\n",
    "### DATA_TYPE_TEXT = Candidate for \"Filter\" (Recommend to have low-cardinality)\n",
    "### DATA_TYPE_NUMBER = Candidate for \"Measure\""
   ],
   "id": "8fa6374fec68461e"
  },
  {
   "metadata": {},
   "cell_type": "markdown",
   "source": "",
   "id": "3b456c83edebe39e"
  }
 ],
 "metadata": {
  "kernelspec": {
   "display_name": "Python 3",
   "language": "python",
   "name": "python3"
  },
  "language_info": {
   "codemirror_mode": {
    "name": "ipython",
    "version": 2
   },
   "file_extension": ".py",
   "mimetype": "text/x-python",
   "name": "python",
   "nbconvert_exporter": "python",
   "pygments_lexer": "ipython2",
   "version": "2.7.6"
  }
 },
 "nbformat": 4,
 "nbformat_minor": 5
}
