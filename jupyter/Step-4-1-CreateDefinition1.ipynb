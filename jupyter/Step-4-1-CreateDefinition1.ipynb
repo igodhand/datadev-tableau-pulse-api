{
 "cells": [
  {
   "metadata": {},
   "cell_type": "markdown",
   "source": "### Authenticate and get headers",
   "id": "12e709489c9fe0d5"
  },
  {
   "cell_type": "code",
   "id": "initial_id",
   "metadata": {
    "collapsed": true,
    "ExecuteTime": {
     "end_time": "2024-06-19T15:19:12.165887Z",
     "start_time": "2024-06-19T15:19:09.969475Z"
    }
   },
   "source": [
    "import requests\n",
    "from _includes import config\n",
    "from _includes import helper\n",
    "\n",
    "config_dict = config.config_dict\n",
    "\n",
    "api = helper.APIHelper(config_dict)\n",
    "base_site_url = f'{api.server}/api/{api.api_version}/sites/{api.site_id}'\n",
    "base_api_url = f'{api.server}/api/-'\n",
    "headers = api.headers"
   ],
   "outputs": [
    {
     "name": "stdout",
     "output_type": "stream",
     "text": [
      "Authentication successful\n",
      "Base Site URL : https://10ax.online.tableau.com/api/3.21/sites/ab8b7c77-xxxxxxxx\n",
      "Base API URL  : https://10ax.online.tableau.com/api/-\n"
     ]
    }
   ],
   "execution_count": 2
  },
  {
   "metadata": {},
   "cell_type": "markdown",
   "source": "### Prepare to Create Definition",
   "id": "9fc0dbe0ba14a96d"
  },
  {
   "metadata": {
    "ExecuteTime": {
     "end_time": "2024-06-19T15:19:12.170925Z",
     "start_time": "2024-06-19T15:19:12.167892Z"
    }
   },
   "cell_type": "code",
   "source": [
    "datasource_id = '3c2b0b36-6b89-449e-9496-951e1a31eb53'\n",
    "pulse_name = 'Number of Visitor 01'\n",
    "pulse_description = 'Number of visitor of sample store in a company'"
   ],
   "id": "1297adde88492d3b",
   "outputs": [],
   "execution_count": 3
  },
  {
   "metadata": {},
   "cell_type": "markdown",
   "source": "### Measure Basic",
   "id": "53f54bcb4726cb77"
  },
  {
   "metadata": {
    "ExecuteTime": {
     "end_time": "2024-06-19T15:19:12.176005Z",
     "start_time": "2024-06-19T15:19:12.171929Z"
    }
   },
   "cell_type": "code",
   "source": [
    "# AGGREGATIONS\n",
    "# ---------------------------------------------------------------------\n",
    "# AGGREGATION_SUM / AGGREGATION_AVERAGE / AGGREGATION_MEDIAN\n",
    "# AGGREGATION_MAX / AGGREGATION_MIN / AGGREGATION_COUNT / AGGREGATION_COUNT_DISTINCT\n",
    "# Running Total can be True only for AGGREGATION_SUM\n",
    "\n",
    "measure_field = 'NumberOfVisit'\n",
    "measure_aggregate = 'AGGREGATION_SUM'\n",
    "is_running_total = True\n",
    "\n",
    "# Time Dimension and Filters\n",
    "time_dimension_field = 'Month'\n",
    "list_allowed_dimension = ['Branch']"
   ],
   "id": "7b80fe791a620798",
   "outputs": [],
   "execution_count": 4
  },
  {
   "metadata": {
    "ExecuteTime": {
     "end_time": "2024-06-19T15:19:12.181084Z",
     "start_time": "2024-06-19T15:19:12.177010Z"
    }
   },
   "cell_type": "code",
   "source": [
    "# GRANULARITY_BY_YEAR / GRANULARITY_BY_QUARTER / GRANULARITY_BY_MONTH / GRANULARITY_BY_WEEK / GRANULARITY_BY_DAY\n",
    "list_allowed_granularity = []\n",
    "\n",
    "# NUMBER_FORMAT_TYPE_NUMBER / NUMBER_FORMAT_TYPE_PERCENT / NUMBER_FORMAT_TYPE_CURRENCY\n",
    "number_format = 'NUMBER_FORMAT_TYPE_NUMBER'\n",
    "\n",
    "# SENTIMENT_TYPE_NONE / SENTIMENT_TYPE_UP_IS_GOOD / SENTIMENT_TYPE_DOWN_IS_GOOD\n",
    "sentiment_type = 'SENTIMENT_TYPE_UP_IS_GOOD'\n",
    "\n",
    "# NOUNS\n",
    "singular_noun = ''\n",
    "plural_noun = ''"
   ],
   "id": "434c2892e392772b",
   "outputs": [],
   "execution_count": 5
  },
  {
   "metadata": {},
   "cell_type": "markdown",
   "source": "### Create a JSON payload",
   "id": "3cf8706ad08a50b0"
  },
  {
   "metadata": {
    "ExecuteTime": {
     "end_time": "2024-06-19T15:19:12.187690Z",
     "start_time": "2024-06-19T15:19:12.183095Z"
    }
   },
   "cell_type": "code",
   "source": [
    "payload = {\n",
    "    'name': pulse_name,\n",
    "    'description': pulse_description,\n",
    "    'specification': {\n",
    "        'datasource': {\n",
    "            'id': datasource_id\n",
    "        },\n",
    "        'basic_specification': {\n",
    "            'measure': {\n",
    "                'field': measure_field,\n",
    "                'aggregation': measure_aggregate\n",
    "            },\n",
    "            'time_dimension': {\n",
    "                'field': time_dimension_field\n",
    "            },\n",
    "            'filters': []\n",
    "        },\n",
    "        'is_running_total': is_running_total\n",
    "    },\n",
    "    'extension_options': {\n",
    "        'allowed_dimensions': list_allowed_dimension,\n",
    "        'allowed_granularities': list_allowed_granularity,\n",
    "        'offset_from_today': 0\n",
    "    },\n",
    "    'representation_options': {\n",
    "        'type': number_format,\n",
    "        'number_units': {\n",
    "            'singular_noun': singular_noun,\n",
    "            'plural_noun': plural_noun\n",
    "        },\n",
    "        'sentiment_type': sentiment_type\n",
    "    },\n",
    "    'comparisons': {\n",
    "        'comparisons': [\n",
    "            {\n",
    "                'compare_config': {\n",
    "                    'comparison': 'TIME_COMPARISON_PREVIOUS_PERIOD'\n",
    "                },\n",
    "                'index': 0\n",
    "            },\n",
    "            {\n",
    "                'compare_config': {\n",
    "                    'comparison': 'TIME_COMPARISON_YEAR_AGO_PERIOD'\n",
    "                },\n",
    "                'index': 1\n",
    "            }\n",
    "        ]\n",
    "    }\n",
    "}"
   ],
   "id": "a59e68902d149df5",
   "outputs": [],
   "execution_count": 6
  },
  {
   "metadata": {},
   "cell_type": "markdown",
   "source": "### Post to Pulse Definitions Endpoint",
   "id": "48c833c63022ed83"
  },
  {
   "metadata": {
    "ExecuteTime": {
     "end_time": "2024-06-19T15:19:13.663795Z",
     "start_time": "2024-06-19T15:19:12.188703Z"
    }
   },
   "cell_type": "code",
   "source": [
    "endpoint = f'{base_api_url}/pulse/definitions'\n",
    "\n",
    "try:\n",
    "    response = requests.post(endpoint, headers=headers, json=payload)\n",
    "    response.raise_for_status()\n",
    "    print('Metric definition created successfully.')\n",
    "    j = response.json()\n",
    "    definition_id = j['definition']['metadata']['id']\n",
    "    print(f'Metric Definition ID:')\n",
    "    print(definition_id)\n",
    "except requests.exceptions.RequestException as e:\n",
    "    print(f'Request failed: {e}')\n",
    "    if response.content:\n",
    "        print('Response content:', response.content.decode())"
   ],
   "id": "55e596ff113f8d8b",
   "outputs": [
    {
     "name": "stdout",
     "output_type": "stream",
     "text": [
      "Metric definition created successfully.\n",
      "Metric Definition ID:\n",
      "5b36e7ca-0dae-49ce-a490-b7d614d5444a\n"
     ]
    }
   ],
   "execution_count": 7
  }
 ],
 "metadata": {
  "kernelspec": {
   "display_name": "Python 3",
   "language": "python",
   "name": "python3"
  },
  "language_info": {
   "codemirror_mode": {
    "name": "ipython",
    "version": 2
   },
   "file_extension": ".py",
   "mimetype": "text/x-python",
   "name": "python",
   "nbconvert_exporter": "python",
   "pygments_lexer": "ipython2",
   "version": "2.7.6"
  }
 },
 "nbformat": 4,
 "nbformat_minor": 5
}
