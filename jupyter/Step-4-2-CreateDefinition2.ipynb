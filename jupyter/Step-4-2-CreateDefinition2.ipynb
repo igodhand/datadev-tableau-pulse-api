{
 "cells": [
  {
   "metadata": {},
   "cell_type": "markdown",
   "source": "### Authenticate and get headers",
   "id": "12e709489c9fe0d5"
  },
  {
   "cell_type": "code",
   "id": "initial_id",
   "metadata": {
    "collapsed": true
   },
   "source": [
    "import requests\n",
    "from _includes import config\n",
    "from _includes import helper\n",
    "\n",
    "config_dict = config.config_dict\n",
    "\n",
    "api = helper.APIHelper(config_dict)\n",
    "base_site_url = f'{api.server}/api/{api.api_version}/sites/{api.site_id}'\n",
    "base_api_url = f'{api.server}/api/-'\n",
    "headers = api.headers"
   ],
   "outputs": [],
   "execution_count": null
  },
  {
   "metadata": {},
   "cell_type": "markdown",
   "source": "### Prepare to Create Definition",
   "id": "9fc0dbe0ba14a96d"
  },
  {
   "metadata": {},
   "cell_type": "code",
   "source": [
    "datasource_dict_tuple = api.get_datasource_dict_tuple()\n",
    "datasource_id = datasource_dict_tuple[('default','SuperStoreDataDev')]\n",
    "print(datasource_id)\n",
    "\n",
    "pulse_name = 'DataDev Demo 02'\n",
    "pulse_description = 'Number of Sales Amount - Demo 02'"
   ],
   "id": "1297adde88492d3b",
   "outputs": [],
   "execution_count": null
  },
  {
   "metadata": {},
   "cell_type": "markdown",
   "source": "### Measure Basic",
   "id": "53f54bcb4726cb77"
  },
  {
   "metadata": {},
   "cell_type": "code",
   "source": [
    "# AGGREGATIONS\n",
    "# ---------------------------------------------------------------------\n",
    "# AGGREGATION_SUM / AGGREGATION_AVERAGE / AGGREGATION_MEDIAN\n",
    "# AGGREGATION_MAX / AGGREGATION_MIN / AGGREGATION_COUNT / AGGREGATION_COUNT_DISTINCT\n",
    "# Running Total can be True only for AGGREGATION_SUM\n",
    "\n",
    "measure_field = 'Sales'\n",
    "measure_aggregate = 'AGGREGATION_AVERAGE'\n",
    "is_running_total = False\n",
    "\n",
    "# Time Dimension and Filters\n",
    "time_dimension_field = 'OrderDate'\n",
    "list_allowed_dimension = ['Category','Sub-Category','Region','Country','Segment']"
   ],
   "id": "7b80fe791a620798",
   "outputs": [],
   "execution_count": null
  },
  {
   "metadata": {},
   "cell_type": "code",
   "source": [
    "# GRANULARITY_BY_YEAR / GRANULARITY_BY_QUARTER / GRANULARITY_BY_MONTH / GRANULARITY_BY_WEEK / GRANULARITY_BY_DAY\n",
    "list_allowed_granularity = []\n",
    "\n",
    "# NUMBER_FORMAT_TYPE_NUMBER / NUMBER_FORMAT_TYPE_PERCENT / NUMBER_FORMAT_TYPE_CURRENCY\n",
    "number_format = 'NUMBER_FORMAT_TYPE_NUMBER'\n",
    "\n",
    "# SENTIMENT_TYPE_NONE / SENTIMENT_TYPE_UP_IS_GOOD / SENTIMENT_TYPE_DOWN_IS_GOOD\n",
    "sentiment_type = 'SENTIMENT_TYPE_UP_IS_GOOD'\n",
    "\n",
    "# NOUNS\n",
    "singular_noun = ''\n",
    "plural_noun = ''"
   ],
   "id": "434c2892e392772b",
   "outputs": [],
   "execution_count": null
  },
  {
   "metadata": {},
   "cell_type": "markdown",
   "source": "### Create a JSON payload",
   "id": "3cf8706ad08a50b0"
  },
  {
   "metadata": {},
   "cell_type": "code",
   "source": [
    "payload = {\n",
    "    'name': pulse_name,\n",
    "    'description': pulse_description,\n",
    "    'specification': {\n",
    "        'datasource': {\n",
    "            'id': datasource_id\n",
    "        },\n",
    "        'basic_specification': {\n",
    "            'measure': {\n",
    "                'field': measure_field,\n",
    "                'aggregation': measure_aggregate\n",
    "            },\n",
    "            'time_dimension': {\n",
    "                'field': time_dimension_field\n",
    "            },\n",
    "            'filters': []\n",
    "        },\n",
    "        'is_running_total': is_running_total\n",
    "    },\n",
    "    'extension_options': {\n",
    "        'allowed_dimensions': list_allowed_dimension,\n",
    "        'allowed_granularities': list_allowed_granularity,\n",
    "        'offset_from_today': 0\n",
    "    },\n",
    "    'representation_options': {\n",
    "        'type': number_format,\n",
    "        'number_units': {\n",
    "            'singular_noun': singular_noun,\n",
    "            'plural_noun': plural_noun\n",
    "        },\n",
    "        'sentiment_type': sentiment_type\n",
    "    },\n",
    "    'comparisons': {\n",
    "        'comparisons': [\n",
    "            {\n",
    "                'compare_config': {\n",
    "                    'comparison': 'TIME_COMPARISON_PREVIOUS_PERIOD'\n",
    "                },\n",
    "                'index': 0\n",
    "            },\n",
    "            {\n",
    "                'compare_config': {\n",
    "                    'comparison': 'TIME_COMPARISON_YEAR_AGO_PERIOD'\n",
    "                },\n",
    "                'index': 1\n",
    "            }\n",
    "        ]\n",
    "    }\n",
    "}"
   ],
   "id": "a59e68902d149df5",
   "outputs": [],
   "execution_count": null
  },
  {
   "metadata": {},
   "cell_type": "markdown",
   "source": "### Post to Pulse Definitions Endpoint",
   "id": "48c833c63022ed83"
  },
  {
   "metadata": {},
   "cell_type": "code",
   "source": [
    "endpoint = f'{base_api_url}/pulse/definitions'\n",
    "\n",
    "try:\n",
    "    response = requests.post(endpoint, headers=headers, json=payload)\n",
    "    response.raise_for_status()\n",
    "    print('Metric definition created successfully.')\n",
    "    j = response.json()\n",
    "    definition_id = j['definition']['metadata']['id']\n",
    "    print(f'Metric Definition ID:')\n",
    "    print(definition_id)\n",
    "except requests.exceptions.RequestException as e:\n",
    "    print(f'Request failed: {e}')\n",
    "    if response.content:\n",
    "        print('Response content:', response.content.decode())"
   ],
   "id": "55e596ff113f8d8b",
   "outputs": [],
   "execution_count": null
  }
 ],
 "metadata": {
  "kernelspec": {
   "display_name": "Python 3",
   "language": "python",
   "name": "python3"
  },
  "language_info": {
   "codemirror_mode": {
    "name": "ipython",
    "version": 2
   },
   "file_extension": ".py",
   "mimetype": "text/x-python",
   "name": "python",
   "nbconvert_exporter": "python",
   "pygments_lexer": "ipython2",
   "version": "2.7.6"
  }
 },
 "nbformat": 4,
 "nbformat_minor": 5
}
