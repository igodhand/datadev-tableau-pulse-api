{
 "cells": [
  {
   "metadata": {},
   "cell_type": "markdown",
   "source": "### Authenticate and get headers",
   "id": "12e709489c9fe0d5"
  },
  {
   "cell_type": "code",
   "id": "initial_id",
   "metadata": {
    "collapsed": true
   },
   "source": [
    "import requests\n",
    "from _includes import config\n",
    "from _includes import helper\n",
    "import pandas as pd\n",
    "\n",
    "config_dict = config.config_dict\n",
    "\n",
    "api = helper.APIHelper(config_dict)\n",
    "base_site_url = f'{api.server}/api/{api.api_version}/sites/{api.site_id}'\n",
    "base_api_url = f'{api.server}/api/-'\n",
    "headers = api.headers"
   ],
   "outputs": [],
   "execution_count": null
  },
  {
   "metadata": {},
   "cell_type": "markdown",
   "source": "### List all of metric definitions (with Helper Class)",
   "id": "206b27dbec71b9c1"
  },
  {
   "metadata": {},
   "cell_type": "code",
   "source": [
    "definition_dict = api.get_pulse_metric_definitions_dict()\n",
    "definition_dict_lookup = {value: key for key, value in definition_dict.items()}\n",
    "\n",
    "definition_dict_filter = {key: value for key, value in definition_dict.items() if 'DataDev' in key}\n",
    "definition_df = pd.DataFrame(list(definition_dict_filter.items()), columns=['definition_name', 'definition_id'])\n",
    "definition_df"
   ],
   "id": "cdcda657227cb8e6",
   "outputs": [],
   "execution_count": null
  },
  {
   "metadata": {},
   "cell_type": "markdown",
   "source": "### Loop Metrics for Each Metric Definition",
   "id": "b627b912946db1b1"
  },
  {
   "metadata": {},
   "cell_type": "code",
   "source": [
    "metric_list = []\n",
    "\n",
    "for key, value in definition_dict_filter.items():\n",
    "    print(f\"Key: {key}, Value: {value}\")\n",
    "    definition_id = value\n",
    "    endpoint = f'{base_api_url}/pulse/definitions/{definition_id}/metrics'\n",
    "    api_response = requests.get(endpoint, headers=headers)\n",
    "    api_response_json = api_response.json()\n",
    "    metric_list.extend(api_response_json['metrics'])\n",
    "    \n",
    "    # Handle pagination\n",
    "    while 'next_page_token' in api_response_json and api_response_json['next_page_token'] != '':\n",
    "        next_page_token = api_response_json['next_page_token']\n",
    "        api_response = requests.get(f'{endpoint}?pageToken={next_page_token}', headers=headers)\n",
    "        api_response_json = api_response.json()\n",
    "        metric_list.extend(api_response_json['metrics'])\n",
    "        \n",
    "print(metric_list)"
   ],
   "id": "a2a2e583002cffd3",
   "outputs": [],
   "execution_count": null
  },
  {
   "metadata": {},
   "cell_type": "markdown",
   "source": "### Transforming the JSON data into a structured format",
   "id": "65cee798671f0974"
  },
  {
   "metadata": {},
   "cell_type": "code",
   "source": [
    "metric_data = []\n",
    "\n",
    "for metric in metric_list:\n",
    "    metric_data.append({\n",
    "        'definition_id': metric['definition_id'],\n",
    "        'definition_name': definition_dict_lookup.get(metric['definition_id']),\n",
    "        'metric_id': metric['id'],\n",
    "        'granularity': metric['specification']['measurement_period']['granularity'],\n",
    "        'range': metric['specification']['measurement_period']['range'],\n",
    "        'comparison': metric['specification']['comparison']['comparison']\n",
    "    })\n",
    "\n",
    "metric_df = pd.DataFrame(metric_data)\n",
    "metric_df"
   ],
   "id": "a0b0d574281bab58",
   "outputs": [],
   "execution_count": null
  }
 ],
 "metadata": {
  "kernelspec": {
   "display_name": "Python 3",
   "language": "python",
   "name": "python3"
  },
  "language_info": {
   "codemirror_mode": {
    "name": "ipython",
    "version": 2
   },
   "file_extension": ".py",
   "mimetype": "text/x-python",
   "name": "python",
   "nbconvert_exporter": "python",
   "pygments_lexer": "ipython2",
   "version": "2.7.6"
  }
 },
 "nbformat": 4,
 "nbformat_minor": 5
}
