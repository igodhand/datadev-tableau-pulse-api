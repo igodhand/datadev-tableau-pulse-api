{
 "cells": [
  {
   "metadata": {},
   "cell_type": "markdown",
   "source": "### Authenticate and get headers",
   "id": "12e709489c9fe0d5"
  },
  {
   "cell_type": "code",
   "id": "initial_id",
   "metadata": {
    "collapsed": true
   },
   "source": [
    "import requests\n",
    "from _includes import config\n",
    "from _includes import helper\n",
    "import json\n",
    "import pandas as pd\n",
    "\n",
    "config_dict = config.config_dict\n",
    "\n",
    "api = helper.APIHelper(config_dict)\n",
    "base_site_url = f'{api.server}/api/{api.api_version}/sites/{api.site_id}'\n",
    "base_api_url = f'{api.server}/api/-'\n",
    "headers = api.headers"
   ],
   "outputs": [],
   "execution_count": null
  },
  {
   "metadata": {},
   "cell_type": "markdown",
   "source": "### List all of metric definitions (with Helper Class)",
   "id": "206b27dbec71b9c1"
  },
  {
   "metadata": {},
   "cell_type": "code",
   "source": [
    "definition_dict = api.get_pulse_metric_definitions()\n",
    "definition_dict = {key: value for key, value in definition_dict.items() if 'Number of Visitor' in key}\n",
    "definition_df = pd.DataFrame(list(definition_dict.items()), columns=['definition_name', 'definition_id'])\n",
    "definition_df"
   ],
   "id": "cdcda657227cb8e6",
   "outputs": [],
   "execution_count": null
  },
  {
   "metadata": {},
   "cell_type": "markdown",
   "source": "### Pickup the definition",
   "id": "b627b912946db1b1"
  },
  {
   "metadata": {},
   "cell_type": "code",
   "source": [
    "definition_id = definition_dict.get('Number of Visitor 01')\n",
    "definition_id"
   ],
   "id": "1ce715631c18e80e",
   "outputs": [],
   "execution_count": null
  },
  {
   "metadata": {},
   "cell_type": "code",
   "source": [
    "# GRANULARITY_BY_YEAR / GRANULARITY_BY_QUARTER / GRANULARITY_BY_MONTH / GRANULARITY_BY_WEEK / GRANULARITY_BY_DAY\n",
    "granularity = 'GRANULARITY_BY_QUARTER'\n",
    "# RANGE_CURRENT_PARTIAL / RANGE_LAST_COMPLETE\n",
    "range = 'RANGE_LAST_COMPLETE'\n",
    "# TIME_COMPARISON_PREVIOUS_PERIOD / TIME_COMPARISON_YEAR_AGO_PERIOD\n",
    "time_comparison = 'TIME_COMPARISON_YEAR_AGO_PERIOD'"
   ],
   "id": "5b90c4cac8ea9f32",
   "outputs": [],
   "execution_count": null
  },
  {
   "metadata": {},
   "cell_type": "code",
   "source": [
    "payload = {\n",
    "    'definition_id': definition_id,\n",
    "    'specification': {\n",
    "        'filters': [],\n",
    "        'measurement_period': {\n",
    "            'granularity': granularity,\n",
    "            'range': range\n",
    "        },\n",
    "        'time_comparison' : time_comparison\n",
    "    }\n",
    "}"
   ],
   "id": "a2a2e583002cffd3",
   "outputs": [],
   "execution_count": null
  },
  {
   "metadata": {},
   "cell_type": "markdown",
   "source": "### Create the metric",
   "id": "2084e6c6c9a0d9d1"
  },
  {
   "metadata": {},
   "cell_type": "code",
   "source": [
    "try:\n",
    "    endpoint = f'{base_api_url}/pulse/metrics'\n",
    "    api_response = requests.post(endpoint, headers=headers, json=payload)\n",
    "    api_response.raise_for_status()\n",
    "    api_response_json = api_response.json()\n",
    "    metric_id = api_response_json.get('metric').get('id')    \n",
    "    print('Metric definition created successfully.')\n",
    "    print('Metric ID:')\n",
    "    print(metric_id)\n",
    "except requests.exceptions.RequestException as e:\n",
    "    print(f'Request failed: {e}')\n",
    "    if api_response.content:\n",
    "        print('Response content:', api_response.content.decode())"
   ],
   "id": "a0b0d574281bab58",
   "outputs": [],
   "execution_count": null
  }
 ],
 "metadata": {
  "kernelspec": {
   "display_name": "Python 3",
   "language": "python",
   "name": "python3"
  },
  "language_info": {
   "codemirror_mode": {
    "name": "ipython",
    "version": 2
   },
   "file_extension": ".py",
   "mimetype": "text/x-python",
   "name": "python",
   "nbconvert_exporter": "python",
   "pygments_lexer": "ipython2",
   "version": "2.7.6"
  }
 },
 "nbformat": 4,
 "nbformat_minor": 5
}
