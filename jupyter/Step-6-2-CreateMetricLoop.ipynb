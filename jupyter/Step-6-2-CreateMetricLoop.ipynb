{
 "cells": [
  {
   "metadata": {},
   "cell_type": "markdown",
   "source": "### Authenticate and get headers",
   "id": "12e709489c9fe0d5"
  },
  {
   "metadata": {
    "jupyter": {
     "is_executing": true
    }
   },
   "cell_type": "code",
   "source": [
    "# https://help.tableau.com/current/api/rest_api/en-us/REST/TAG/index.html#tag/Pulse-Methods/operation/MetricQueryService_CreateDefinition\n",
    "# https://www.postman.com/salesforce-developers/workspace/salesforce-developers/request/12721794-ac634b69-dd89-49f3-8ff2-a67066c23f64"
   ],
   "id": "1021bb325622850a",
   "outputs": [],
   "execution_count": null
  },
  {
   "cell_type": "code",
   "id": "initial_id",
   "metadata": {
    "collapsed": true
   },
   "source": [
    "import requests\n",
    "from _includes import config\n",
    "from _includes import helper\n",
    "import json\n",
    "import pandas as pd\n",
    "\n",
    "config_dict = config.config_dict\n",
    "\n",
    "api = helper.APIHelper(config_dict)\n",
    "base_site_url = f'{api.server}/api/{api.api_version}/sites/{api.site_id}'\n",
    "base_api_url = f'{api.server}/api/-'\n",
    "headers = api.headers"
   ],
   "outputs": [],
   "execution_count": null
  },
  {
   "metadata": {},
   "cell_type": "markdown",
   "source": "### List all of metric definitions (with Helper Class)",
   "id": "206b27dbec71b9c1"
  },
  {
   "metadata": {},
   "cell_type": "code",
   "source": [
    "definition_dict = api.get_pulse_metric_definitions()\n",
    "definition_dict = {key: value for key, value in definition_dict.items() if 'DataDev' in key}\n",
    "definition_df = pd.DataFrame(list(definition_dict.items()), columns=['definition_name', 'definition_id'])\n",
    "definition_df"
   ],
   "id": "cdcda657227cb8e6",
   "outputs": [],
   "execution_count": null
  },
  {
   "metadata": {},
   "cell_type": "markdown",
   "source": "### Pickup the definition",
   "id": "b627b912946db1b1"
  },
  {
   "metadata": {},
   "cell_type": "code",
   "source": [
    "definition_id = definition_dict.get('DataDev Demo 02')\n",
    "print(definition_id)"
   ],
   "id": "1ce715631c18e80e",
   "outputs": [],
   "execution_count": null
  },
  {
   "metadata": {},
   "cell_type": "code",
   "source": [
    "# GRANULARITY_BY_YEAR / GRANULARITY_BY_QUARTER / GRANULARITY_BY_MONTH / GRANULARITY_BY_WEEK / GRANULARITY_BY_DAY\n",
    "granularity_list = ['GRANULARITY_BY_YEAR', 'GRANULARITY_BY_QUARTER', 'GRANULARITY_BY_MONTH', 'GRANULARITY_BY_WEEK', 'GRANULARITY_BY_DAY']\n",
    "# RANGE_CURRENT_PARTIAL / RANGE_LAST_COMPLETE\n",
    "range_list = ['RANGE_CURRENT_PARTIAL', 'RANGE_LAST_COMPLETE']\n",
    "# TIME_COMPARISON_PREVIOUS_PERIOD / TIME_COMPARISON_YEAR_AGO_PERIOD\n",
    "# Still not used\n",
    "# time_comparison = 'TIME_COMPARISON_YEAR_AGO_PERIOD'"
   ],
   "id": "38ec83ef8ea83fbc",
   "outputs": [],
   "execution_count": null
  },
  {
   "metadata": {},
   "cell_type": "code",
   "source": [
    "def create_metric(definition_id, granularity, range):\n",
    "\n",
    "    payload = {\n",
    "        'definition_id': definition_id,\n",
    "        'specification': {\n",
    "            'filters': [],\n",
    "            'measurement_period': {\n",
    "                'granularity': granularity,\n",
    "                'range': range,\n",
    "            }\n",
    "        }\n",
    "    }\n",
    "\n",
    "    try:\n",
    "        endpoint = f'{base_api_url}/pulse/metrics'\n",
    "        api_response = requests.post(endpoint, headers=headers, json=payload)\n",
    "        api_response.raise_for_status()\n",
    "        api_response_json = api_response.json()\n",
    "        metric_id = api_response_json.get('metric').get('id')\n",
    "        print(f'Metric definition created successfully : {granularity}, {range}')\n",
    "        print('Metric ID:')\n",
    "        print(metric_id)\n",
    "    except requests.exceptions.RequestException as e:\n",
    "        print(f'Request failed: {e}')\n",
    "        if api_response.content:\n",
    "            print('Response content:', api_response.content.decode())\n",
    "\n",
    "for granularity in granularity_list:\n",
    "    for range in range_list:\n",
    "        create_metric(definition_id, granularity, range)"
   ],
   "id": "c7f7e6c7e86e3a68",
   "outputs": [],
   "execution_count": null
  }
 ],
 "metadata": {
  "kernelspec": {
   "display_name": "Python 3",
   "language": "python",
   "name": "python3"
  },
  "language_info": {
   "codemirror_mode": {
    "name": "ipython",
    "version": 2
   },
   "file_extension": ".py",
   "mimetype": "text/x-python",
   "name": "python",
   "nbconvert_exporter": "python",
   "pygments_lexer": "ipython2",
   "version": "2.7.6"
  }
 },
 "nbformat": 4,
 "nbformat_minor": 5
}
