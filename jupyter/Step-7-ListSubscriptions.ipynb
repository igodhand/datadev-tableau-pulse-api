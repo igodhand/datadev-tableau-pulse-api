{
 "cells": [
  {
   "metadata": {},
   "cell_type": "markdown",
   "source": "### Authenticate and get headers",
   "id": "12e709489c9fe0d5"
  },
  {
   "cell_type": "code",
   "id": "initial_id",
   "metadata": {
    "collapsed": true
   },
   "source": [
    "import requests\n",
    "from _includes import config\n",
    "from _includes import helper\n",
    "\n",
    "config_dict = config.config_dict\n",
    "\n",
    "api = helper.APIHelper(config_dict)\n",
    "base_site_url = f'{api.server}/api/{api.api_version}/sites/{api.site_id}'\n",
    "base_api_url = f'{api.server}/api/-'\n",
    "headers = api.headers"
   ],
   "outputs": [],
   "execution_count": null
  },
  {
   "metadata": {},
   "cell_type": "markdown",
   "source": "### List Subscriptions",
   "id": "9fc0dbe0ba14a96d"
  },
  {
   "metadata": {},
   "cell_type": "code",
   "source": [
    "endpoint = f'{base_api_url}/pulse/subscriptions'\n",
    "\n",
    "subscription_list = []\n",
    "api_response = requests.get(endpoint, headers=headers)\n",
    "api_response_json = api_response.json()\n",
    "subscription_list.extend(api_response_json['subscriptions'])\n",
    "\n",
    "# Handle pagination\n",
    "while 'next_page_token' in api_response_json and api_response_json['next_page_token'] != '':\n",
    "    next_page_token = api_response_json['next_page_token']\n",
    "    api_response = requests.get(f'{endpoint}?pageToken={next_page_token}', headers=headers)\n",
    "    api_response_json = api_response.json()\n",
    "    subscription_list.extend(api_response_json['subscriptions'])\n",
    "\n",
    "# List all definitions\n",
    "for subscription in subscription_list:\n",
    "    print(subscription)"
   ],
   "id": "1297adde88492d3b",
   "outputs": [],
   "execution_count": null
  },
  {
   "metadata": {},
   "cell_type": "markdown",
   "source": "### Transforming the JSON data into a structured format to make it more manageable",
   "id": "8b5a239a73a4c966"
  },
  {
   "metadata": {},
   "cell_type": "code",
   "source": [
    "import pandas as pd\n",
    "\n",
    "subscription_detail_list = []\n",
    "\n",
    "for item in subscription_list:\n",
    "    subscription_id = item.get('id', '')\n",
    "    metric_id = item.get('metric_id', '')\n",
    "    user_id = item.get('follower', {}).get('user_id','')\n",
    "\n",
    "    subscription_detail_list.append({\n",
    "        'subscription_id': item.get('id', ''),\n",
    "        'metric_id': item.get('metric_id', ''),\n",
    "        'user_id': item.get('follower', {}).get('user_id','')\n",
    "    })\n",
    "\n",
    "# Create DataFrame\n",
    "df = pd.DataFrame(subscription_detail_list)\n",
    "df"
   ],
   "id": "15c3fd99ae86fa1",
   "outputs": [],
   "execution_count": null
  }
 ],
 "metadata": {
  "kernelspec": {
   "display_name": "Python 3",
   "language": "python",
   "name": "python3"
  },
  "language_info": {
   "codemirror_mode": {
    "name": "ipython",
    "version": 2
   },
   "file_extension": ".py",
   "mimetype": "text/x-python",
   "name": "python",
   "nbconvert_exporter": "python",
   "pygments_lexer": "ipython2",
   "version": "2.7.6"
  }
 },
 "nbformat": 4,
 "nbformat_minor": 5
}
