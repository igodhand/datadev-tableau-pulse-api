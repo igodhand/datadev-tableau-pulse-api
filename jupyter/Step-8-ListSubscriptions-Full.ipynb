{
 "cells": [
  {
   "metadata": {},
   "cell_type": "markdown",
   "source": "### Authenticate and get headers",
   "id": "12e709489c9fe0d5"
  },
  {
   "cell_type": "code",
   "id": "initial_id",
   "metadata": {
    "collapsed": true
   },
   "source": [
    "import requests\n",
    "from _includes import config\n",
    "from _includes import helper\n",
    "\n",
    "config_dict = config.config_dict\n",
    "\n",
    "api = helper.APIHelper(config_dict)\n",
    "base_site_url = f'{api.server}/api/{api.api_version}/sites/{api.site_id}'\n",
    "base_api_url = f'{api.server}/api/-'\n",
    "headers = api.headers"
   ],
   "outputs": [],
   "execution_count": null
  },
  {
   "metadata": {},
   "cell_type": "markdown",
   "source": "### List all definitions and metrics",
   "id": "9fc0dbe0ba14a96d"
  },
  {
   "metadata": {},
   "cell_type": "code",
   "source": [
    "metric_df = api.get_pulse_metric_definitions_and_metrics_df(filter='DataDev')\n",
    "metric_df"
   ],
   "id": "e2167c4434fbaf34",
   "outputs": [],
   "execution_count": null
  },
  {
   "metadata": {},
   "cell_type": "code",
   "source": [
    "metric_dict = {\n",
    "    (row['definition_name'], row['granularity'], row['range']): row['metric_id']\n",
    "    for _, row in metric_df.iterrows()\n",
    "}\n",
    "metric_dict"
   ],
   "id": "ccce3971008c4c2f",
   "outputs": [],
   "execution_count": null
  },
  {
   "metadata": {},
   "cell_type": "code",
   "source": [
    "subscription_df = api.get_pulse_subscription_df()\n",
    "subscription_df"
   ],
   "id": "7a283b23a91d1c3f",
   "outputs": [],
   "execution_count": null
  },
  {
   "metadata": {},
   "cell_type": "code",
   "source": [
    "user_df = api.get_user_df()\n",
    "user_df"
   ],
   "id": "50540741ff0c50b",
   "outputs": [],
   "execution_count": null
  },
  {
   "metadata": {},
   "cell_type": "code",
   "source": [
    "df = metric_df.merge(subscription_df, how='left').merge(user_df, how='left')\n",
    "df"
   ],
   "id": "7ef90094eec13e1c",
   "outputs": [],
   "execution_count": null
  },
  {
   "metadata": {},
   "cell_type": "code",
   "source": "",
   "id": "b9d260a4233c9382",
   "outputs": [],
   "execution_count": null
  }
 ],
 "metadata": {
  "kernelspec": {
   "display_name": "Python 3",
   "language": "python",
   "name": "python3"
  },
  "language_info": {
   "codemirror_mode": {
    "name": "ipython",
    "version": 2
   },
   "file_extension": ".py",
   "mimetype": "text/x-python",
   "name": "python",
   "nbconvert_exporter": "python",
   "pygments_lexer": "ipython2",
   "version": "2.7.6"
  }
 },
 "nbformat": 4,
 "nbformat_minor": 5
}
