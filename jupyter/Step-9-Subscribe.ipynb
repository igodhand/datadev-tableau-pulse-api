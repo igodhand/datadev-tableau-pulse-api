{
 "cells": [
  {
   "metadata": {},
   "cell_type": "markdown",
   "source": "### Authenticate and get headers",
   "id": "a483ba41152fb98b"
  },
  {
   "cell_type": "code",
   "id": "initial_id",
   "metadata": {
    "collapsed": true
   },
   "source": [
    "import requests\n",
    "import pandas as pd\n",
    "from io import StringIO\n",
    "from _includes import config\n",
    "from _includes import helper\n",
    "\n",
    "config_dict = config.config_dict\n",
    "\n",
    "api = helper.APIHelper(config_dict)\n",
    "base_site_url = f'{api.server}/api/{api.api_version}/sites/{api.site_id}'\n",
    "base_api_url = f'{api.server}/api/-'\n",
    "headers = api.headers"
   ],
   "outputs": [],
   "execution_count": null
  },
  {
   "metadata": {},
   "cell_type": "markdown",
   "source": "### List all definitions and metrics",
   "id": "c65f75b869d9eba7"
  },
  {
   "metadata": {},
   "cell_type": "code",
   "source": [
    "metric_df = api.get_pulse_metric_definitions_and_metrics_df(filter='DataDev')\n",
    "metric_df"
   ],
   "id": "e1c05c463646d75a",
   "outputs": [],
   "execution_count": null
  },
  {
   "metadata": {},
   "cell_type": "markdown",
   "source": "### Make a lookup dictionary",
   "id": "430d0188e87ad637"
  },
  {
   "metadata": {},
   "cell_type": "code",
   "source": [
    "metric_dict = {\n",
    "    (row['definition_name'], row['granularity'], row['range']): row['metric_id']\n",
    "    for _, row in metric_df.iterrows()\n",
    "}"
   ],
   "id": "547e106b1f8427be",
   "outputs": [],
   "execution_count": null
  },
  {
   "metadata": {},
   "cell_type": "markdown",
   "source": [
    "### Sample CSV Data\n",
    "### For the CSV Files / Data Source you plan to be a source file for automated subscription, I highly recommend you to use simple words (YEAR/QUARTER/MONTH) or (CURRENT/LAST) ... and then you transform the simple word to correct value later."
   ],
   "id": "398a50571f56d38"
  },
  {
   "metadata": {},
   "cell_type": "code",
   "source": [
    "df_csv = pd.read_csv('Step-9.csv')\n",
    "df_csv"
   ],
   "id": "fc7162448ef88ca9",
   "outputs": [],
   "execution_count": null
  },
  {
   "metadata": {},
   "cell_type": "code",
   "source": [
    "df = df_csv.copy()\n",
    "df['granularity'] = 'GRANULARITY_BY_' + df['granularity'].str.upper()\n",
    "df['range'] = df['range'].str.upper().replace({\n",
    "    'LAST': 'RANGE_LAST_COMPLETE',\n",
    "    'CURRENT': 'RANGE_CURRENT_PARTIAL'\n",
    "})\n",
    "df"
   ],
   "id": "a1138637e8bb5a09",
   "outputs": [],
   "execution_count": null
  },
  {
   "metadata": {},
   "cell_type": "markdown",
   "source": "### Translate Email / Username to User ID",
   "id": "1a25504680635ab6"
  },
  {
   "metadata": {},
   "cell_type": "code",
   "source": "user_dict = api.get_user_dict()",
   "id": "2736acfd5a3a9607",
   "outputs": [],
   "execution_count": null
  },
  {
   "metadata": {},
   "cell_type": "markdown",
   "source": "### The result we will use for subscription",
   "id": "265be5f0330bb4a"
  },
  {
   "metadata": {},
   "cell_type": "code",
   "source": [
    "map_df = df.copy()\n",
    "map_df['metric_id'] = map_df.apply(lambda row: metric_dict.get((row['definition_name'], row['granularity'], row['range'])), axis=1)\n",
    "map_df['user_id'] = map_df['user'].apply(lambda user: user_dict.get(user))\n",
    "map_df"
   ],
   "id": "63b5aa26b3b444c1",
   "outputs": [],
   "execution_count": null
  },
  {
   "metadata": {},
   "cell_type": "code",
   "source": [
    "for i,row in map_df.iterrows():\n",
    "\n",
    "    definition_name = row['definition_name']\n",
    "    granularity = row['granularity']\n",
    "    range = row['range']\n",
    "    user = row['user']\n",
    "\n",
    "    metric_id = row['metric_id']\n",
    "    user_id = row['user_id']\n",
    "\n",
    "    payload = {\n",
    "        \"metric_id\": metric_id,\n",
    "        \"follower\": {\n",
    "            \"user_id\": user_id\n",
    "        }\n",
    "    }\n",
    "\n",
    "    try:\n",
    "        print(f'Subscribe {definition_name} / {granularity} / {range} : For {user} ')\n",
    "        endpoint = f'{base_api_url}/pulse/subscriptions'\n",
    "        api_response = requests.post(endpoint, headers=headers, json=payload)\n",
    "        api_response.raise_for_status()\n",
    "        api_response_json = api_response.json()\n",
    "        metric_id = api_response_json.get('subscription').get('id')\n",
    "        print('Subscription created successfully.')\n",
    "        print('Subscription ID:')\n",
    "        print(metric_id)\n",
    "    except requests.exceptions.RequestException as e:\n",
    "        print(f'Request failed: {e}')\n",
    "        if api_response.content:\n",
    "            print('Response content:', api_response.content.decode())"
   ],
   "id": "25ca519d1b8bc34c",
   "outputs": [],
   "execution_count": null
  }
 ],
 "metadata": {
  "kernelspec": {
   "display_name": "Python 3",
   "language": "python",
   "name": "python3"
  },
  "language_info": {
   "codemirror_mode": {
    "name": "ipython",
    "version": 2
   },
   "file_extension": ".py",
   "mimetype": "text/x-python",
   "name": "python",
   "nbconvert_exporter": "python",
   "pygments_lexer": "ipython2",
   "version": "2.7.6"
  }
 },
 "nbformat": 4,
 "nbformat_minor": 5
}
