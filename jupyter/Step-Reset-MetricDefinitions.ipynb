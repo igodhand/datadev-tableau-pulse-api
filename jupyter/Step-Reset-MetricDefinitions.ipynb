{
 "cells": [
  {
   "metadata": {},
   "cell_type": "markdown",
   "source": "### Bonus Notebook - Delete all Metric Definition which has certain name",
   "id": "33a4d76b5915cc20"
  },
  {
   "cell_type": "code",
   "id": "initial_id",
   "metadata": {
    "collapsed": true
   },
   "source": [
    "import re\n",
    "import requests\n",
    "from _includes import config\n",
    "from _includes import helper\n",
    "import pandas as pd\n",
    "\n",
    "config_dict = config.config_dict\n",
    "api = helper.APIHelper(config_dict)\n",
    "base_site_url = f'{api.server}/api/{api.api_version}/sites/{api.site_id}'\n",
    "base_api_url = f'{api.server}/api/-'\n",
    "headers = api.headers"
   ],
   "outputs": [],
   "execution_count": null
  },
  {
   "metadata": {},
   "cell_type": "code",
   "source": [
    "definition_dict = api.get_pulse_metric_definitions_dict()\n",
    "definition_dict"
   ],
   "id": "d9bbe5cbabe3b42c",
   "outputs": [],
   "execution_count": null
  },
  {
   "metadata": {},
   "cell_type": "code",
   "source": [
    "definition_list = list(definition_dict.keys())\n",
    "definition_to_delete_list = [name for name in definition_list if re.match(r'^(DataDev)', name)]\n",
    "print(definition_to_delete_list)"
   ],
   "id": "462c2e237387f26",
   "outputs": [],
   "execution_count": null
  },
  {
   "metadata": {},
   "cell_type": "code",
   "source": [
    "for item in definition_to_delete_list:\n",
    "    print(item)\n",
    "    definition_id = definition_dict.get(item, '')\n",
    "    endpoint = f'{base_api_url}/pulse/definitions/{definition_id}'\n",
    "    try:\n",
    "        api_response = requests.delete(endpoint, headers=headers)\n",
    "        print(api_response.content)\n",
    "    except Exception as e:\n",
    "        print(str(e))   "
   ],
   "id": "6473e1f01a98c62",
   "outputs": [],
   "execution_count": null
  }
 ],
 "metadata": {
  "kernelspec": {
   "display_name": "Python 3",
   "language": "python",
   "name": "python3"
  },
  "language_info": {
   "codemirror_mode": {
    "name": "ipython",
    "version": 2
   },
   "file_extension": ".py",
   "mimetype": "text/x-python",
   "name": "python",
   "nbconvert_exporter": "python",
   "pygments_lexer": "ipython2",
   "version": "2.7.6"
  }
 },
 "nbformat": 4,
 "nbformat_minor": 5
}
